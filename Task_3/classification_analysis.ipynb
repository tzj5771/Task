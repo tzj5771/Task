{
 "cells": [
  {
   "cell_type": "markdown",
   "metadata": {
    "pycharm": {
     "name": "#%% md\n"
    }
   },
   "source": [
    "<h3>Classification analysis</h3>"
   ]
  },
  {
   "cell_type": "code",
   "execution_count": 1,
   "outputs": [],
   "source": [
    "import pandas as pd\n",
    "\n",
    "from Task_3.dt import DT\n",
    "from Task_3.nbc import NBC\n",
    "from Task_3.svm import SVM\n"
   ],
   "metadata": {
    "collapsed": false,
    "pycharm": {
     "name": "#%%\n"
    }
   }
  },
  {
   "cell_type": "markdown",
   "source": [
    "<h4>Naive Bayes classifier</h>"
   ],
   "metadata": {
    "collapsed": false,
    "pycharm": {
     "name": "#%% md\n"
    }
   }
  },
  {
   "cell_type": "code",
   "execution_count": 2,
   "outputs": [
    {
     "name": "stdout",
     "output_type": "stream",
     "text": [
      "--------Data length:12603--------\n",
      "--------F1 Score ratio--------\n",
      "                       precision    recall  f1-score   support\n",
      "            macro avg       0.31      0.25      0.25      9453\n",
      "         weighted avg       0.68      0.58      0.57      9453\n",
      "               tumblr       0.00      0.00      0.00        32\n",
      "--------ACC--------\n",
      "0.5802390775415213\n"
     ]
    }
   ],
   "source": [
    "nbc = NBC()\n",
    "nbc.run()"
   ],
   "metadata": {
    "collapsed": false,
    "pycharm": {
     "name": "#%%\n"
    }
   }
  },
  {
   "cell_type": "markdown",
   "source": [
    "<h4>Decision Tree classifier</h>"
   ],
   "metadata": {
    "collapsed": false
   }
  },
  {
   "cell_type": "code",
   "execution_count": 3,
   "outputs": [
    {
     "name": "stdout",
     "output_type": "stream",
     "text": [
      "--------Data length:12603--------\n",
      "--------F1 Score ratio--------\n",
      "                       precision    recall  f1-score   support\n",
      "            macro avg       0.14      0.13      0.13      9453\n",
      "         weighted avg       0.39      0.36      0.36      9453\n",
      "               tumblr       0.00      0.00      0.00        32\n",
      "--------ACC--------\n",
      "0.35681794139426637\n"
     ]
    }
   ],
   "source": [
    "dt = DT()\n",
    "dt.run()"
   ],
   "metadata": {
    "collapsed": false,
    "pycharm": {
     "name": "#%%\n"
    }
   }
  },
  {
   "cell_type": "markdown",
   "source": [
    "<h4>Support Vector Machine classifier</h>"
   ],
   "metadata": {
    "collapsed": false
   }
  },
  {
   "cell_type": "code",
   "execution_count": 4,
   "outputs": [
    {
     "name": "stdout",
     "output_type": "stream",
     "text": [
      "--------Data length:12603--------\n",
      "--------F1 Score ratio--------\n",
      "                       precision    recall  f1-score   support\n",
      "            macro avg       0.18      0.11      0.12      9453\n",
      "         weighted avg       0.48      0.31      0.33      9453\n",
      "               tumblr       0.00      0.00      0.00        32\n",
      "--------ACC--------\n",
      "0.3068867026340844\n"
     ]
    }
   ],
   "source": [
    "svm = SVM()\n",
    "svm.run()\n",
    "\n"
   ],
   "metadata": {
    "collapsed": false,
    "pycharm": {
     "name": "#%%\n"
    }
   }
  }
 ],
 "metadata": {
  "kernelspec": {
   "display_name": "Python 3",
   "language": "python",
   "name": "python3"
  },
  "language_info": {
   "codemirror_mode": {
    "name": "ipython",
    "version": 3
   },
   "file_extension": ".py",
   "mimetype": "text/x-python",
   "name": "python",
   "nbconvert_exporter": "python",
   "pygments_lexer": "ipython3",
   "version": "3.9.3"
  }
 },
 "nbformat": 4,
 "nbformat_minor": 1
}